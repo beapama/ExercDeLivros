{
 "cells": [
  {
   "cell_type": "markdown",
   "metadata": {},
   "source": [
    "**MOVER ZEROS:**\n",
    "localizar todos os zeros de uma lista e move-los para o final, mantendo os demais elementos na mesma ordem"
   ]
  },
  {
   "cell_type": "code",
   "execution_count": 1,
   "metadata": {},
   "outputs": [
    {
     "name": "stdout",
     "output_type": "stream",
     "text": [
      "[8, 3, 12, 0, 0]\n"
     ]
    }
   ],
   "source": [
    "def move_zeros(a_lista):\n",
    "    index_zero = 0\n",
    "    for index, n in enumerate(a_lista):\n",
    "        if n!= 0:\n",
    "            a_lista[index_zero] = n\n",
    "            if index_zero != index:\n",
    "                a_lista[index] = 0\n",
    "            index_zero += 1\n",
    "    return(a_lista)\n",
    "\n",
    "a_lista = [8,0,3,0,12]\n",
    "move_zeros(a_lista)\n",
    "print(a_lista)"
   ]
  },
  {
   "cell_type": "markdown",
   "metadata": {},
   "source": [
    "**ACHAR DUPLICIDADE EM UMA LISTA:**\n",
    "localizar se há itens duplicados em uma lista e retorná-los"
   ]
  },
  {
   "cell_type": "code",
   "execution_count": 10,
   "metadata": {},
   "outputs": [
    {
     "name": "stdout",
     "output_type": "stream",
     "text": [
      "['maçã', 'banana', 'laranja']\n"
     ]
    }
   ],
   "source": [
    "def duplicates(dados):\n",
    "    dupli = []\n",
    "    conj = set()\n",
    "    for item in dados:\n",
    "        tam_antes = len(conj)\n",
    "        #print(tam_antes)\n",
    "        conj.add(item)\n",
    "        tam_depois = len(conj)\n",
    "        #print(tam_depois)\n",
    "        if tam_antes == tam_depois:\n",
    "            dupli.append(item)\n",
    "    return dupli\n",
    "\n",
    "dados = ['laranja', 'banana', 'maçã', 'morango', 'uva', 'pera', 'maçã', 'limão', 'banana', 'laranja']\n",
    "resultado = duplicates(dados)\n",
    "print(resultado)"
   ]
  },
  {
   "cell_type": "markdown",
   "metadata": {},
   "source": [
    "**ACHAR INTERSEÇÃO DE DUAS LISTAS:**\n",
    "encontrar elementos presentes em ambas listas"
   ]
  },
  {
   "cell_type": "code",
   "execution_count": 12,
   "metadata": {},
   "outputs": [
    {
     "name": "stdout",
     "output_type": "stream",
     "text": [
      "[2, 62, 28]\n"
     ]
    }
   ],
   "source": [
    "def intersection(list1, list2):\n",
    "    list3 = [v for v in list1 if v in list2]\n",
    "    return list3\n",
    "\n",
    "list1 =[2, 43, 48, 62, 64, 28, 3]\n",
    "list2 = [1, 28, 42, 70, 2, 10, 62, 31, 4, 14]\n",
    "print(intersection(list1, list2))"
   ]
  }
 ],
 "metadata": {
  "kernelspec": {
   "display_name": "Python 3",
   "language": "python",
   "name": "python3"
  },
  "language_info": {
   "codemirror_mode": {
    "name": "ipython",
    "version": 3
   },
   "file_extension": ".py",
   "mimetype": "text/x-python",
   "name": "python",
   "nbconvert_exporter": "python",
   "pygments_lexer": "ipython3",
   "version": "3.11.5"
  }
 },
 "nbformat": 4,
 "nbformat_minor": 2
}
